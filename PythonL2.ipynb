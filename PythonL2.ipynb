{
 "cells": [
  {
   "cell_type": "markdown",
   "id": "298c59cb-e870-44a6-a3ff-6b40d60024c1",
   "metadata": {},
   "source": [
    "# Python P"
   ]
  },
  {
   "cell_type": "markdown",
   "id": "3087a6d4-0102-4ce6-b53d-83269fe40bf9",
   "metadata": {},
   "source": [
    "# Datatyper\n",
    "- int = heltal\n",
    "- float = decimaltal\n",
    "- bool = True or False\n",
    "- string = textsträng\n",
    "# Datastrukturer\n",
    "- Tuple = En samling av noll eller flera element. immutable\n",
    "- List = - || - men mutable\n",
    "- Dict = En samling av nyckel-värde-par. mutable\n",
    "- Set = En samling av unika värden, oordnad.  mutable\n",
    "- frozenset = - || - . immutable\n",
    "- range = en talföljd. immutable\n",
    "- str = en textsträng. immutable\n",
    "# Operatorer\n",
    "- add = +\n",
    "- sub = -\n",
    "- mult = *\n",
    "- div = /\n",
    "- modulo = %\n",
    "# Mängdoperationer\n",
    "- Operation: Union      Metod: union()      Operator:   |\n",
    "- Operation: Snitt      Metod: intersection()      Operator:  &\n",
    "- Operation: Differens      Metod: difference()      Operator:   -\n",
    "- Operation: Symmetrisk differens      Metod: symmetric_difference()      Operator:   ^\n",
    "  "
   ]
  },
  {
   "cell_type": "code",
   "execution_count": 7,
   "id": "6001a71c-f022-4bde-ad37-fd9b8db8d670",
   "metadata": {},
   "outputs": [
    {
     "name": "stdout",
     "output_type": "stream",
     "text": [
      "<class 'int'>\n"
     ]
    }
   ],
   "source": [
    "x = 10\n",
    "print(type(x))"
   ]
  },
  {
   "cell_type": "markdown",
   "id": "ad680bcd-4b10-43ed-8f9c-47199884a0ad",
   "metadata": {},
   "source": [
    "# Logik\n",
    "- Få kod att anpassa sig efter olika villkor\n",
    "\n",
    "# Begrepp \n",
    "- bool: En datatyp som antinen har värdet True eller False\n",
    "- Jämförelse: Användning av eb jämförelse-operator för att jämföra två värden och få en bool som resultat\n",
    "- Logiska operatorer: Operatorer som kombinerar jämförelser: and, or, not\n",
    "- if-sats: Ett statement som utvärderar ett villkor och exekverar olika delar av koden beroende på villkorets värde.\n",
    "- elif, else: Nyckelord som används flr att sjaoa ner komplexa logiska strukturer.\n",
    "\n",
    "# Jämförelse-operatorer i Python\n",
    "- . < strikt mindre än\n",
    "- . <= mindre eller lika med\n",
    "- . > strikt större än\n",
    "- . >= större eller lika med\n",
    "- . == lika med\n",
    "- . != inte lika med"
   ]
  },
  {
   "cell_type": "code",
   "id": "9e82d7d9-9055-428f-b1f5-3238ac4a1dd6",
   "metadata": {
    "ExecuteTime": {
     "end_time": "2025-05-06T09:11:25.118053Z",
     "start_time": "2025-05-06T09:11:25.115473Z"
    }
   },
   "source": [
    "x = 4\n",
    "if x >= 5 :\n",
    "    print(\"Talet är större eller lika med 5\")\n",
    "else:\n",
    "    print(\"talet är mindre än 5\")"
   ],
   "outputs": [
    {
     "name": "stdout",
     "output_type": "stream",
     "text": [
      "talet är mindre än 5\n"
     ]
    }
   ],
   "execution_count": 1
  },
  {
   "metadata": {},
   "cell_type": "markdown",
   "source": [
    "# Loopar\n",
    "Loopar används när man vill upprepa kod flera gånger.\n",
    "\n",
    "De olika looparna i Python är:\n",
    "For-loop\n",
    "Används när du vet hur många gånger du vill upprepa något, till exempel för att gå igenom en lista eller räkna steg med range().\n",
    "\n",
    "While-loop\n",
    "Används när du inte vet i förväg hur många gånger loopen ska köras, den fortsätter så länge ett villkor är sant.\n",
    "\n",
    "Continue kan användas för att hoppa över vissa steg i en loop\n",
    "\n",
    "break kan används för att avbryta loopen.\n",
    "\n",
    "Exempel – skriva ut alla element i en lista:\n"
   ],
   "id": "21b8c6d2b1a101b9"
  },
  {
   "metadata": {
    "ExecuteTime": {
     "end_time": "2025-05-06T09:21:34.814694Z",
     "start_time": "2025-05-06T09:21:34.805297Z"
    }
   },
   "cell_type": "code",
   "source": [
    "list1 = [\"apple\", \"banana\", \"pear\"]\n",
    "\n",
    "for element in list1:\n",
    "    print(element)\n",
    "\n",
    "print()\n",
    "\n",
    "\n",
    "i = 0\n",
    "\n",
    "while i < len(list1):\n",
    "    print(list1[i])\n",
    "    i += 1"
   ],
   "id": "eab65bfc5d294c23",
   "outputs": [
    {
     "name": "stdout",
     "output_type": "stream",
     "text": [
      "apple\n",
      "banana\n",
      "pear\n",
      "\n",
      "apple\n",
      "banana\n",
      "pear\n"
     ]
    }
   ],
   "execution_count": 9
  },
  {
   "metadata": {},
   "cell_type": "markdown",
   "source": [
    "# Inbyggda Funktioner\n",
    "**Print()**"
   ],
   "id": "fda25dec1f86e216"
  },
  {
   "metadata": {
    "ExecuteTime": {
     "end_time": "2025-05-06T09:12:46.936055Z",
     "start_time": "2025-05-06T09:12:46.929941Z"
    }
   },
   "cell_type": "code",
   "outputs": [
    {
     "name": "stdout",
     "output_type": "stream",
     "text": [
      "Patrik\n"
     ]
    }
   ],
   "execution_count": 2,
   "source": [
    "name = 'Patrik'\n",
    "print(name)"
   ],
   "id": "135e1200ff3946ba"
  },
  {
   "metadata": {},
   "cell_type": "markdown",
   "source": "**sum()**",
   "id": "8493271e67d82c20"
  },
  {
   "metadata": {
    "ExecuteTime": {
     "end_time": "2025-05-06T09:14:16.265794Z",
     "start_time": "2025-05-06T09:14:16.254781Z"
    }
   },
   "cell_type": "code",
   "outputs": [
    {
     "data": {
      "text/plain": [
       "15"
      ]
     },
     "execution_count": 3,
     "metadata": {},
     "output_type": "execute_result"
    }
   ],
   "execution_count": 3,
   "source": [
    "a = 5, 5, 5\n",
    "sum(a)\n"
   ],
   "id": "6101e41f5a283379"
  },
  {
   "metadata": {},
   "cell_type": "markdown",
   "source": "**Min()**\n",
   "id": "dfe834e06d0d382b"
  },
  {
   "metadata": {
    "ExecuteTime": {
     "end_time": "2025-05-06T09:16:05.812268Z",
     "start_time": "2025-05-06T09:16:05.806246Z"
    }
   },
   "cell_type": "code",
   "outputs": [
    {
     "data": {
      "text/plain": [
       "1"
      ]
     },
     "execution_count": 4,
     "metadata": {},
     "output_type": "execute_result"
    }
   ],
   "execution_count": 4,
   "source": [
    "b = 2, 4, 1, 5\n",
    "min(b)"
   ],
   "id": "c664ce6bcd636c4f"
  },
  {
   "metadata": {},
   "cell_type": "markdown",
   "source": "**Max()**\n",
   "id": "39e6d6296a867300"
  },
  {
   "metadata": {
    "ExecuteTime": {
     "end_time": "2025-05-06T09:16:50.307193Z",
     "start_time": "2025-05-06T09:16:50.296728Z"
    }
   },
   "cell_type": "code",
   "outputs": [
    {
     "data": {
      "text/plain": [
       "5"
      ]
     },
     "execution_count": 5,
     "metadata": {},
     "output_type": "execute_result"
    }
   ],
   "execution_count": 5,
   "source": [
    "\n",
    "max(b)\n"
   ],
   "id": "bada4b2895f2545c"
  },
  {
   "metadata": {},
   "cell_type": "markdown",
   "source": "**Sorted()**\n",
   "id": "7b497711c63faa6"
  },
  {
   "metadata": {
    "ExecuteTime": {
     "end_time": "2025-05-06T09:17:18.833105Z",
     "start_time": "2025-05-06T09:17:18.825602Z"
    }
   },
   "cell_type": "code",
   "outputs": [
    {
     "data": {
      "text/plain": [
       "[2, 3, 4, 5, 6]"
      ]
     },
     "execution_count": 6,
     "metadata": {},
     "output_type": "execute_result"
    }
   ],
   "execution_count": 6,
   "source": [
    "list = [5, 4, 3, 2, 6]\n",
    "sorted(list)"
   ],
   "id": "f0b53b7e06fa638"
  },
  {
   "metadata": {},
   "cell_type": "markdown",
   "source": "**Len()**\n",
   "id": "a28f0600942f981d"
  },
  {
   "metadata": {
    "ExecuteTime": {
     "end_time": "2025-05-06T09:17:47.296774Z",
     "start_time": "2025-05-06T09:17:47.290420Z"
    }
   },
   "cell_type": "code",
   "outputs": [
    {
     "data": {
      "text/plain": [
       "5"
      ]
     },
     "execution_count": 7,
     "metadata": {},
     "output_type": "execute_result"
    }
   ],
   "execution_count": 7,
   "source": "len(list)",
   "id": "7878f633caaac27e"
  },
  {
   "metadata": {},
   "cell_type": "markdown",
   "source": "**Round()**\n",
   "id": "fa5ef5d4b2ad5b90"
  },
  {
   "metadata": {
    "ExecuteTime": {
     "end_time": "2025-05-06T09:18:17.763002Z",
     "start_time": "2025-05-06T09:18:17.751177Z"
    }
   },
   "cell_type": "code",
   "outputs": [
    {
     "data": {
      "text/plain": [
       "3"
      ]
     },
     "execution_count": 8,
     "metadata": {},
     "output_type": "execute_result"
    }
   ],
   "execution_count": 8,
   "source": [
    "float = 2.6\n",
    "round(float)\n",
    "round(2.6)"
   ],
   "id": "3963e217ac3ba3af"
  }
 ],
 "metadata": {
  "kernelspec": {
   "display_name": "Python 3 (ipykernel)",
   "language": "python",
   "name": "python3"
  },
  "language_info": {
   "codemirror_mode": {
    "name": "ipython",
    "version": 3
   },
   "file_extension": ".py",
   "mimetype": "text/x-python",
   "name": "python",
   "nbconvert_exporter": "python",
   "pygments_lexer": "ipython3",
   "version": "3.12.7"
  }
 },
 "nbformat": 4,
 "nbformat_minor": 5
}
