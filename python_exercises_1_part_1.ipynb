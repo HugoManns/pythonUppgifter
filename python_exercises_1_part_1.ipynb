{
 "cells": [
  {
   "cell_type": "markdown",
   "id": "f193e061",
   "metadata": {},
   "source": [
    "# Python exercises 1 part 1/2\n",
    "The exercises are connected to the video available at: https://www.youtube.com/watch?v=M7bnYJyCx0Q from 0:00 to 1:02:20.\n",
    "\n",
    "When writing the solutions make sure the code is clear and readable. When providing comments, follow the general principle that you should comment \"why\" you are doing something and not \"what\", the \"what\" is seen by the code itself. "
   ]
  },
  {
   "cell_type": "markdown",
   "id": "fca64927",
   "metadata": {},
   "source": [
    "### Add and multiply the two numbers below. "
   ]
  },
  {
   "cell_type": "code",
   "id": "e6dbf0a8",
   "metadata": {
    "ExecuteTime": {
     "end_time": "2025-04-30T11:26:02.299946Z",
     "start_time": "2025-04-30T11:26:02.288602Z"
    }
   },
   "source": [
    "nr1 = 5\n",
    "nr2 = 10\n",
    "\n",
    "x = nr1 + nr2\n",
    "y = nr1 * nr2\n",
    "print(x)\n",
    "print(y)\n"
   ],
   "outputs": [
    {
     "name": "stdout",
     "output_type": "stream",
     "text": [
      "15\n",
      "50\n"
     ]
    }
   ],
   "execution_count": 4
  },
  {
   "cell_type": "markdown",
   "id": "73a0e54d",
   "metadata": {},
   "source": [
    "# Lists"
   ]
  },
  {
   "cell_type": "markdown",
   "id": "86d1e9fb",
   "metadata": {},
   "source": [
    "### Extract the first and last element in the list."
   ]
  },
  {
   "cell_type": "code",
   "execution_count": 243,
   "id": "bcf3c7c7",
   "metadata": {},
   "outputs": [],
   "source": [
    "l = [1, 2, 3, 10, 15, 100]\n"
   ]
  },
  {
   "cell_type": "code",
   "execution_count": 244,
   "id": "c8c1ad57",
   "metadata": {},
   "outputs": [
    {
     "name": "stdout",
     "output_type": "stream",
     "text": [
      "100\n"
     ]
    }
   ],
   "source": [
    "l[-1]\n",
    "l[0]\n",
    "print(l[-1])"
   ]
  },
  {
   "cell_type": "markdown",
   "id": "acd427da",
   "metadata": {},
   "source": [
    "### Check if the first and last number is the same in each list respectively. So, we expect the answer True in list_1 and False in list_2."
   ]
  },
  {
   "cell_type": "code",
   "execution_count": 245,
   "id": "191cc82d",
   "metadata": {},
   "outputs": [],
   "source": [
    "list_1 = [10, 20, 30, 40, 10]\n",
    "list_2 = [75, 65, 35, 75, 30]"
   ]
  },
  {
   "cell_type": "code",
   "execution_count": 246,
   "id": "3abe7838",
   "metadata": {},
   "outputs": [
    {
     "name": "stdout",
     "output_type": "stream",
     "text": [
      "True\n",
      "False\n"
     ]
    }
   ],
   "source": [
    "\n",
    "if(list_1[0] == list_1[-1]):\n",
    "    l1 = True;\n",
    "else:\n",
    "    l1 = False;   \n",
    "\n",
    "print(l1)\n",
    "\n",
    "if(list_2[0] == list_2[-1]):\n",
    "    l2 = True\n",
    "else:\n",
    "    l2 = False\n",
    "\n",
    "print(l2)"
   ]
  },
  {
   "cell_type": "markdown",
   "id": "fbe9606a",
   "metadata": {},
   "source": [
    "### Replace the number 4567 in the list with the number 22. "
   ]
  },
  {
   "cell_type": "code",
   "execution_count": 247,
   "id": "c112096f",
   "metadata": {},
   "outputs": [],
   "source": [
    "replace_4567 = [100, 2, 4567, 5, 7]"
   ]
  },
  {
   "cell_type": "code",
   "execution_count": 248,
   "id": "b88c6628",
   "metadata": {},
   "outputs": [
    {
     "name": "stdout",
     "output_type": "stream",
     "text": [
      "[100, 2, 22, 5, 7]\n"
     ]
    }
   ],
   "source": [
    "replace_4567[2] = 22\n",
    "print(replace_4567)"
   ]
  },
  {
   "cell_type": "markdown",
   "id": "32fe337d",
   "metadata": {},
   "source": [
    "### Replace the two numbers 3 and 4 with 30 and 40 in one line of code  by using slicing. "
   ]
  },
  {
   "cell_type": "code",
   "execution_count": 249,
   "id": "9d3eecd6",
   "metadata": {},
   "outputs": [],
   "source": [
    "replace_two_numbers = [1, 2, 3, 4, 5]"
   ]
  },
  {
   "cell_type": "code",
   "execution_count": 250,
   "id": "e6798e4f",
   "metadata": {},
   "outputs": [
    {
     "name": "stdout",
     "output_type": "stream",
     "text": [
      "[1, 2, 3, 30, 40, 5]\n"
     ]
    }
   ],
   "source": [
    "replace_two_numbers[3: 4] = [30, 40]\n",
    "print(replace_two_numbers)"
   ]
  },
  {
   "cell_type": "markdown",
   "id": "1d595e27",
   "metadata": {},
   "source": [
    "### Print out the list below but in reverse order."
   ]
  },
  {
   "cell_type": "code",
   "execution_count": 251,
   "id": "6df7567f",
   "metadata": {},
   "outputs": [],
   "source": [
    "my_list = [1, 2, 3, 10, 15, 100]"
   ]
  },
  {
   "cell_type": "code",
   "execution_count": 252,
   "id": "88e8e811",
   "metadata": {},
   "outputs": [
    {
     "name": "stdout",
     "output_type": "stream",
     "text": [
      "[100, 15, 10, 3, 2, 1]\n"
     ]
    }
   ],
   "source": [
    "print(my_list[::-1])"
   ]
  },
  {
   "cell_type": "markdown",
   "id": "54c58e8a",
   "metadata": {},
   "source": [
    "### Extract the following numbers with indexing or slicing:\n",
    "* The number 5 in the list within the list. \n",
    "* Extract the whole list [10, 12, 13, 5, 100].\n",
    "* Extract 12, 13, 5 in the list within the list\n",
    "* Extract the number 8888 with negative indexing.\n",
    "* Extract 1, 2, [10, 12, 13, 5, 100]."
   ]
  },
  {
   "cell_type": "code",
   "execution_count": 253,
   "id": "c12e313d",
   "metadata": {},
   "outputs": [],
   "source": [
    "list_containing_a_list = [1, 2, [10, 12, 13, 5, 100], 8888, 3, [1, 2, 3]]"
   ]
  },
  {
   "cell_type": "code",
   "execution_count": 254,
   "id": "7801b694",
   "metadata": {},
   "outputs": [
    {
     "name": "stdout",
     "output_type": "stream",
     "text": [
      "5\n",
      "[10, 12, 13, 5, 100]\n",
      "[12, 13, 5]\n",
      "8888\n",
      "[1, 2, [10, 12, 13, 5, 100]]\n"
     ]
    }
   ],
   "source": [
    "print(list_containing_a_list[2][3])\n",
    "print(list_containing_a_list[2])\n",
    "print(list_containing_a_list[2][1:4])\n",
    "print(list_containing_a_list[-3])\n",
    "print(list_containing_a_list[:3])"
   ]
  },
  {
   "cell_type": "markdown",
   "id": "731a9e3e",
   "metadata": {},
   "source": [
    "### Append the empty list with the number 10 and the string 'Hello'. You should use the append method twice. "
   ]
  },
  {
   "cell_type": "code",
   "execution_count": 255,
   "id": "faecabaa",
   "metadata": {},
   "outputs": [],
   "source": [
    "empty_list_1 = []\n"
   ]
  },
  {
   "cell_type": "code",
   "execution_count": 256,
   "id": "e5e57508",
   "metadata": {},
   "outputs": [
    {
     "name": "stdout",
     "output_type": "stream",
     "text": [
      "[10, 'Hello']\n"
     ]
    }
   ],
   "source": [
    "\n",
    "empty_list_1.append(10)\n",
    "empty_list_1.append(\"Hello\")\n",
    "print(empty_list_1)"
   ]
  },
  {
   "cell_type": "markdown",
   "id": "bebb5618",
   "metadata": {},
   "source": [
    "### Append the empty list with the number 10 and the string 'Hello'. You should use the extend method once. "
   ]
  },
  {
   "cell_type": "code",
   "execution_count": 257,
   "id": "82e7301a",
   "metadata": {},
   "outputs": [],
   "source": [
    "empty_list_2 = []"
   ]
  },
  {
   "cell_type": "code",
   "execution_count": 258,
   "id": "ffc6525f",
   "metadata": {},
   "outputs": [
    {
     "name": "stdout",
     "output_type": "stream",
     "text": [
      "[10, 'Hello']\n"
     ]
    }
   ],
   "source": [
    "empty_list_2.extend([10, \"Hello\"])\n",
    "print(empty_list_2)"
   ]
  },
  {
   "cell_type": "markdown",
   "id": "539b730a",
   "metadata": {},
   "source": [
    "### Use list comprehension to create a new list from list_example, where each number is mulitplied by 10. You should only include the numbers between 4-8 where 4 and 8 is included."
   ]
  },
  {
   "cell_type": "code",
   "execution_count": 259,
   "id": "14300485",
   "metadata": {},
   "outputs": [],
   "source": [
    "list_example = [1, 2, 3, 4, 5, 6, 7, 8, 9, 10]"
   ]
  },
  {
   "cell_type": "code",
   "execution_count": 260,
   "id": "61207a3b",
   "metadata": {},
   "outputs": [
    {
     "data": {
      "text/plain": [
       "[40, 50, 60, 70, 80]"
      ]
     },
     "execution_count": 260,
     "metadata": {},
     "output_type": "execute_result"
    }
   ],
   "source": [
    "[number*10 for number in list_example if number >= 4 and number <=8]\n",
    "\n"
   ]
  },
  {
   "cell_type": "markdown",
   "id": "49aa8bb4",
   "metadata": {},
   "source": [
    "### Concatenate the two lists below elementwise so you get a new list ['My', 'name', 'is', 'Antonio']. Hint: use the zip function. \n",
    "Expected output: [\"My\", \"name\", \"is\", \"Antonio\"]. "
   ]
  },
  {
   "cell_type": "code",
   "execution_count": 261,
   "id": "fde2701c",
   "metadata": {},
   "outputs": [],
   "source": [
    "list1 = [\"M\", \"na\", \"i\", \"Anto\"]\n",
    "list2 = [\"y\", \"me\", \"s\", \"nio\"]"
   ]
  },
  {
   "cell_type": "code",
   "execution_count": 262,
   "id": "3e7f0356",
   "metadata": {},
   "outputs": [
    {
     "data": {
      "text/plain": [
       "['My', 'name', 'is', 'Antonio']"
      ]
     },
     "execution_count": 262,
     "metadata": {},
     "output_type": "execute_result"
    }
   ],
   "source": [
    "[list1[i]+list2[i] for i in range(len(list1))]\n",
    "[i+j for i,j in zip(list1, list2)]"
   ]
  },
  {
   "cell_type": "markdown",
   "id": "56bf725b",
   "metadata": {},
   "source": [
    "# Tuples"
   ]
  },
  {
   "cell_type": "markdown",
   "id": "d389f5d9",
   "metadata": {},
   "source": [
    "### Unpack the tuple so that we get 4 new variables. "
   ]
  },
  {
   "cell_type": "code",
   "execution_count": 263,
   "id": "391422e9",
   "metadata": {},
   "outputs": [],
   "source": [
    "my_tuple = (10, 20, 30, 40)"
   ]
  },
  {
   "cell_type": "code",
   "execution_count": 264,
   "id": "bc420b70",
   "metadata": {},
   "outputs": [
    {
     "name": "stdout",
     "output_type": "stream",
     "text": [
      "10 20 30 40\n"
     ]
    }
   ],
   "source": [
    "x1, x2, x3, x4 = my_tuple\n",
    "print(x1, x2, x3, x4)"
   ]
  },
  {
   "cell_type": "markdown",
   "id": "e3dbd7e3",
   "metadata": {},
   "source": [
    "### Explain with your own words what the code below containing two scenarios does. "
   ]
  },
  {
   "cell_type": "code",
   "execution_count": 265,
   "id": "9cd720b9",
   "metadata": {},
   "outputs": [
    {
     "name": "stdout",
     "output_type": "stream",
     "text": [
      "2\n",
      "4\n",
      "8\n",
      "16\n",
      "a function that returns the four values based on x input\n",
      "\n",
      "(3, 9, 27, 81)\n",
      "Same thing but this time it's stored in a variable as a tuple\n"
     ]
    }
   ],
   "source": [
    "def f(x): \n",
    "    return (x, x**2, x**3, x**4)\n",
    "\n",
    "# Scenario 1.\n",
    "x1, x2, x3, x4 = f(2)\n",
    "print(x1)\n",
    "print(x2) # Squared\n",
    "print(x3) # cubed\n",
    "print(x4) # Forth power\n",
    "print(\"a function that returns the four values based on x input\")\n",
    "print()\n",
    "\n",
    "# Scenario 2.\n",
    "x = f(3)\n",
    "print(x)\n",
    "print(\"Same thing but this time it's stored in a variable as a tuple\")"
   ]
  },
  {
   "cell_type": "markdown",
   "id": "a1d0ad8c",
   "metadata": {},
   "source": [
    "### Count the number of times 24 occurs in the tupple. \n"
   ]
  },
  {
   "cell_type": "code",
   "execution_count": 266,
   "id": "da5e6047",
   "metadata": {},
   "outputs": [],
   "source": [
    "tuple_22 = 24, 2, 4, 24, 24, 5"
   ]
  },
  {
   "cell_type": "code",
   "execution_count": 267,
   "id": "818a5471",
   "metadata": {},
   "outputs": [
    {
     "name": "stdout",
     "output_type": "stream",
     "text": [
      "3\n"
     ]
    }
   ],
   "source": [
    "count_24 = tuple_22.count(24)\n",
    "print(count_24)"
   ]
  },
  {
   "cell_type": "markdown",
   "id": "02b90433",
   "metadata": {},
   "source": [
    "### Swap the two tuples, i.e. t1 should be replaced by t2 and vice versa. "
   ]
  },
  {
   "cell_type": "code",
   "execution_count": 268,
   "id": "d0bf409a",
   "metadata": {},
   "outputs": [],
   "source": [
    "t1 = ('Python', 'MATLAB')\n",
    "t2 = ('R', 'Julia')"
   ]
  },
  {
   "cell_type": "code",
   "execution_count": 269,
   "id": "54e7301b",
   "metadata": {},
   "outputs": [
    {
     "name": "stdout",
     "output_type": "stream",
     "text": [
      "t1:  ('R', 'Julia')\n",
      "t2;  ('Python', 'MATLAB')\n"
     ]
    }
   ],
   "source": [
    "t1, t2 = t2, t1\n",
    "print(\"t1: \", t1)\n",
    "print(\"t2; \", t2)"
   ]
  },
  {
   "cell_type": "markdown",
   "id": "f44bc333",
   "metadata": {},
   "source": [
    "# Dictionaries"
   ]
  },
  {
   "cell_type": "markdown",
   "id": "c59f5a5a",
   "metadata": {},
   "source": [
    "### We have two lists, use both of them to convert it to a dictionary. l1 should be the keys whereas l2 should be the values. Hint, use the zip function. "
   ]
  },
  {
   "cell_type": "code",
   "execution_count": 270,
   "id": "c22949bc",
   "metadata": {},
   "outputs": [],
   "source": [
    "l1 = [1, 2, 3]\n",
    "l2 = ['Python', 'C++', 'Java']"
   ]
  },
  {
   "cell_type": "code",
   "execution_count": 271,
   "id": "d32b1d97",
   "metadata": {},
   "outputs": [
    {
     "name": "stdout",
     "output_type": "stream",
     "text": [
      "{1: 'Python', 2: 'C++', 3: 'Java'}\n"
     ]
    }
   ],
   "source": [
    "my_dictionary = dict(zip(l1,l2))\n",
    "print(my_dictionary)"
   ]
  },
  {
   "cell_type": "markdown",
   "id": "08c24361",
   "metadata": {},
   "source": [
    "### Print out the value corresponding to the key \"1\"."
   ]
  },
  {
   "cell_type": "code",
   "execution_count": 272,
   "id": "64ed0f46",
   "metadata": {},
   "outputs": [],
   "source": [
    "dictionary = {0: 'Easy', 1: 'as', 2: 'ABC'}"
   ]
  },
  {
   "cell_type": "code",
   "execution_count": 273,
   "id": "283ece07",
   "metadata": {},
   "outputs": [
    {
     "name": "stdout",
     "output_type": "stream",
     "text": [
      "as\n"
     ]
    }
   ],
   "source": [
    "print(dictionary[1])"
   ]
  },
  {
   "cell_type": "markdown",
   "id": "49657a9e",
   "metadata": {},
   "source": [
    "### Explain with your own words what the code does. "
   ]
  },
  {
   "cell_type": "code",
   "execution_count": 274,
   "id": "b31f3461",
   "metadata": {},
   "outputs": [],
   "source": [
    "def y(x):\n",
    "  y0 = x\n",
    "  y1 = x**2 #sqared\n",
    "  y2 = x**3 #cubed\n",
    "\n",
    "  return {'y0': y0, 'y1': y1 ,'y2': y2}\n",
    "#This python code makes a function with input x. y0 is x, y1 is x squared and y2 is x cubed.\n",
    "# After that the function returns a dictionary"
   ]
  },
  {
   "cell_type": "code",
   "execution_count": 275,
   "id": "16e62182",
   "metadata": {},
   "outputs": [
    {
     "data": {
      "text/plain": [
       "9"
      ]
     },
     "execution_count": 275,
     "metadata": {},
     "output_type": "execute_result"
    }
   ],
   "source": [
    "y(3)['y1'] \n",
    "#y(2) asigns the x input to 2\n",
    "#['y2'] get's the key value from the dictionary with the key 'y2'"
   ]
  },
  {
   "cell_type": "markdown",
   "id": "018b60ac",
   "metadata": {},
   "source": [
    "# Sets"
   ]
  },
  {
   "cell_type": "markdown",
   "id": "e2b2b51c",
   "metadata": {},
   "source": [
    "### Create a set named my_set containing the items: Python, R, MATLAB, Julia, SAS, C.  "
   ]
  },
  {
   "cell_type": "code",
   "id": "79a04e2a",
   "metadata": {
    "ExecuteTime": {
     "end_time": "2025-05-02T06:34:06.211060Z",
     "start_time": "2025-05-02T06:34:06.204921Z"
    }
   },
   "source": [
    "my_set = set(['python', 'R', 'MATLAB', 'Julia', 'SAS', 'C'])\n",
    "type(my_set)"
   ],
   "outputs": [
    {
     "data": {
      "text/plain": [
       "set"
      ]
     },
     "execution_count": 8,
     "metadata": {},
     "output_type": "execute_result"
    }
   ],
   "execution_count": 8
  },
  {
   "cell_type": "markdown",
   "id": "4b22140b",
   "metadata": {
    "ExecuteTime": {
     "end_time": "2025-05-02T06:29:07.202900Z",
     "start_time": "2025-05-02T06:29:07.200107Z"
    }
   },
   "source": [
    "### Find all elements that are in atleast one of the sets. "
   ]
  },
  {
   "cell_type": "code",
   "id": "59a5c7ef",
   "metadata": {
    "ExecuteTime": {
     "end_time": "2025-05-02T06:52:33.624948Z",
     "start_time": "2025-05-02T06:52:33.618006Z"
    }
   },
   "source": [
    "set_a = {1, 2, 99}\n",
    "set_b = {0, 100, 15, 765}"
   ],
   "outputs": [],
   "execution_count": 9
  },
  {
   "cell_type": "code",
   "id": "cb6f8df0",
   "metadata": {
    "ExecuteTime": {
     "end_time": "2025-05-02T06:54:52.562885Z",
     "start_time": "2025-05-02T06:54:52.555353Z"
    }
   },
   "source": [
    "all_elements = set_a | set_b\n",
    "print(all_elements)"
   ],
   "outputs": [
    {
     "name": "stdout",
     "output_type": "stream",
     "text": [
      "{0, 1, 2, 99, 100, 765, 15}\n"
     ]
    }
   ],
   "execution_count": 16
  },
  {
   "cell_type": "markdown",
   "id": "a7b6740f",
   "metadata": {
    "ExecuteTime": {
     "end_time": "2025-05-02T06:29:55.882163Z",
     "start_time": "2025-05-02T06:29:55.876417Z"
    }
   },
   "source": [
    "### Find all the items that are in *both* lists and return those values in a list. "
   ]
  },
  {
   "cell_type": "code",
   "id": "9a81165c",
   "metadata": {
    "ExecuteTime": {
     "end_time": "2025-05-02T06:29:56.496984Z",
     "start_time": "2025-05-02T06:29:56.493448Z"
    }
   },
   "source": [
    "l1 = ['Python', 'R', 'MATLAB', 'Julia']\n",
    "l2 = ['Python', 'Julia']"
   ],
   "outputs": [
    {
     "name": "stdout",
     "output_type": "stream",
     "text": [
      "{0, 1, 2, 99, 100, 765, 15}\n"
     ]
    }
   ],
   "execution_count": 3
  },
  {
   "cell_type": "code",
   "execution_count": 280,
   "id": "555feeef",
   "metadata": {},
   "outputs": [
    {
     "name": "stdout",
     "output_type": "stream",
     "text": [
      "{'Julia', 'Python'}\n"
     ]
    }
   ],
   "source": [
    "common_items = (set(l1) & set(l2))\n",
    "print(common_items)"
   ]
  },
  {
   "cell_type": "markdown",
   "id": "8a79680b",
   "metadata": {
    "ExecuteTime": {
     "end_time": "2025-05-02T06:29:58.903555Z",
     "start_time": "2025-05-02T06:29:58.901235Z"
    }
   },
   "source": [
    "### Find all the unique elements of the list. "
   ]
  },
  {
   "cell_type": "code",
   "id": "b3564d41",
   "metadata": {
    "jupyter": {
     "is_executing": true
    }
   },
   "source": [
    "l = [1, 1, 2, 2, 3, 1, 2]"
   ],
   "outputs": [],
   "execution_count": null
  },
  {
   "cell_type": "code",
   "id": "ed1ef5e2",
   "metadata": {
    "ExecuteTime": {
     "end_time": "2025-05-02T06:57:25.978206Z",
     "start_time": "2025-05-02T06:57:25.970623Z"
    }
   },
   "source": [
    "uni_elements = set(l)\n",
    "print(uni_elements)"
   ],
   "outputs": [
    {
     "name": "stdout",
     "output_type": "stream",
     "text": [
      "{1, 2, 3}\n"
     ]
    }
   ],
   "execution_count": 17
  },
  {
   "cell_type": "markdown",
   "id": "68969341",
   "metadata": {
    "ExecuteTime": {
     "end_time": "2025-05-02T06:30:00.769843Z",
     "start_time": "2025-05-02T06:30:00.767299Z"
    }
   },
   "source": [
    "### Find all the elements that are in set_1 but not in set_2."
   ]
  },
  {
   "cell_type": "code",
   "id": "4e1d29c9",
   "metadata": {
    "ExecuteTime": {
     "end_time": "2025-05-02T06:30:01.002749Z",
     "start_time": "2025-05-02T06:30:01.000752Z"
    }
   },
   "source": [
    "set_1 = {1, 2, 3, 4, 5, 6}\n",
    "set_2 = set([1, 3, 4])"
   ],
   "outputs": [
    {
     "name": "stdout",
     "output_type": "stream",
     "text": [
      "{1, 2, 3}\n"
     ]
    }
   ],
   "execution_count": 6
  },
  {
   "cell_type": "code",
   "execution_count": 284,
   "id": "afd25ca8-f9c9-4de4-9a8d-c3c5753096d6",
   "metadata": {},
   "outputs": [
    {
     "name": "stdout",
     "output_type": "stream",
     "text": [
      "{2, 5, 6}\n"
     ]
    }
   ],
   "source": [
    "print(set_1 - set_2)"
   ]
  },
  {
   "cell_type": "markdown",
   "id": "38863120",
   "metadata": {},
   "source": [
    "# Iteration & Loops"
   ]
  },
  {
   "cell_type": "markdown",
   "id": "8e6bf0e5",
   "metadata": {},
   "source": [
    "### Print out all the elements in the list \"looping_list\" with a for loop."
   ]
  },
  {
   "cell_type": "code",
   "execution_count": 285,
   "id": "69039249",
   "metadata": {},
   "outputs": [],
   "source": [
    "looping_list = [0, 'a', 'b', [1, 2, 3], ('Python', 'R'), 55]"
   ]
  },
  {
   "cell_type": "code",
   "execution_count": 286,
   "id": "2e0c7dec",
   "metadata": {},
   "outputs": [
    {
     "name": "stdout",
     "output_type": "stream",
     "text": [
      "0\n",
      "a\n",
      "b\n",
      "[1, 2, 3]\n",
      "('Python', 'R')\n",
      "55\n"
     ]
    }
   ],
   "source": [
    "for i in (looping_list):\n",
    "    print(i)"
   ]
  },
  {
   "cell_type": "markdown",
   "id": "f58c2b64",
   "metadata": {},
   "source": [
    "### Print out all the elements in the list \"looping_list\" and enumerate the iteration number."
   ]
  },
  {
   "cell_type": "code",
   "execution_count": 287,
   "id": "cb4b490c",
   "metadata": {},
   "outputs": [],
   "source": [
    "looping_list = [0, 'a', 'b', [1, 2, 3], ('Python', 'R'), 55]"
   ]
  },
  {
   "cell_type": "code",
   "execution_count": 288,
   "id": "b401f949",
   "metadata": {},
   "outputs": [
    {
     "name": "stdout",
     "output_type": "stream",
     "text": [
      "0 0\n",
      "1 a\n",
      "2 b\n",
      "3 [1, 2, 3]\n",
      "4 ('Python', 'R')\n",
      "5 55\n"
     ]
    }
   ],
   "source": [
    "for (i,j) in enumerate(looping_list):\n",
    "    print(i, j)"
   ]
  },
  {
   "cell_type": "markdown",
   "id": "296e1f3a",
   "metadata": {},
   "source": [
    "### Write a for loop to print out each letter in the string. "
   ]
  },
  {
   "cell_type": "code",
   "execution_count": 292,
   "id": "e3aae8b8",
   "metadata": {},
   "outputs": [],
   "source": [
    "for_string = 'Python!'"
   ]
  },
  {
   "cell_type": "code",
   "execution_count": 296,
   "id": "339911b9",
   "metadata": {},
   "outputs": [
    {
     "name": "stdout",
     "output_type": "stream",
     "text": [
      "P\n",
      "y\n",
      "t\n",
      "h\n",
      "o\n",
      "n\n",
      "!\n"
     ]
    }
   ],
   "source": [
    "for letter in for_string:\n",
    "    print(letter)\n"
   ]
  },
  {
   "cell_type": "markdown",
   "id": "68a29b13",
   "metadata": {},
   "source": [
    "### Write a while loop to print out each letter in the string. "
   ]
  },
  {
   "cell_type": "code",
   "id": "0fe72c4d",
   "metadata": {
    "ExecuteTime": {
     "end_time": "2025-05-02T07:02:25.516173Z",
     "start_time": "2025-05-02T07:02:25.509791Z"
    }
   },
   "source": [
    "while_string = 'Is Awesome!'"
   ],
   "outputs": [],
   "execution_count": 21
  },
  {
   "cell_type": "code",
   "id": "8cf73954",
   "metadata": {
    "ExecuteTime": {
     "end_time": "2025-05-02T07:02:32.593017Z",
     "start_time": "2025-05-02T07:02:32.589243Z"
    }
   },
   "source": [
    "i = 0\n",
    "while i < 1:\n",
    "    print(while_string)\n",
    "    i += 1\n",
    "    "
   ],
   "outputs": [
    {
     "name": "stdout",
     "output_type": "stream",
     "text": [
      "I\n",
      "s\n",
      " \n",
      "A\n",
      "w\n",
      "e\n",
      "s\n",
      "o\n",
      "m\n",
      "e\n",
      "!\n"
     ]
    }
   ],
   "execution_count": 22
  },
  {
   "cell_type": "markdown",
   "id": "84f69821",
   "metadata": {},
   "source": [
    "### Print the numbers 1, 2, ..., 10 with a while loop. "
   ]
  },
  {
   "cell_type": "code",
   "id": "b26edc56",
   "metadata": {
    "ExecuteTime": {
     "end_time": "2025-04-30T11:41:00.602973Z",
     "start_time": "2025-04-30T11:41:00.598875Z"
    }
   },
   "source": [
    "i = 0\n",
    "while i <= 10:\n",
    "    print(i)\n",
    "    i += 1"
   ],
   "outputs": [
    {
     "name": "stdout",
     "output_type": "stream",
     "text": [
      "0\n",
      "1\n",
      "2\n",
      "3\n",
      "4\n",
      "5\n",
      "6\n",
      "7\n",
      "8\n",
      "9\n",
      "10\n"
     ]
    }
   ],
   "execution_count": 13
  },
  {
   "cell_type": "markdown",
   "id": "38122cd9",
   "metadata": {},
   "source": [
    "### Print out all numbers that are divisible by 5 in the list \"numbers\". \n",
    "Hint: Use the modulo operator %. A number is divisible by 5 if the remainder after dividing by 5 is 0. "
   ]
  },
  {
   "cell_type": "code",
   "id": "4a77126f",
   "metadata": {
    "ExecuteTime": {
     "end_time": "2025-04-30T11:41:37.479740Z",
     "start_time": "2025-04-30T11:41:37.474996Z"
    }
   },
   "source": [
    "numbers = [10, 20, 34, 46, 55]"
   ],
   "outputs": [],
   "execution_count": 14
  },
  {
   "cell_type": "code",
   "id": "63913f9b",
   "metadata": {
    "ExecuteTime": {
     "end_time": "2025-04-30T12:09:59.730993Z",
     "start_time": "2025-04-30T12:09:59.718836Z"
    }
   },
   "source": [
    "for num in numbers:\n",
    "    if num % 5 == 0:\n",
    "        print(num)\n",
    "    "
   ],
   "outputs": [
    {
     "name": "stdout",
     "output_type": "stream",
     "text": [
      "10\n",
      "20\n",
      "55\n"
     ]
    }
   ],
   "execution_count": 16
  },
  {
   "cell_type": "markdown",
   "id": "097e4726",
   "metadata": {},
   "source": [
    "### Print the numbers 0, 5, 10, 15, 20 with a for-loop and using the range function."
   ]
  },
  {
   "cell_type": "code",
   "id": "e6730d54",
   "metadata": {
    "ExecuteTime": {
     "end_time": "2025-05-02T07:05:19.331957Z",
     "start_time": "2025-05-02T07:05:19.323545Z"
    }
   },
   "source": [
    "for i in range(0, 21, 5):\n",
    "    print(i)"
   ],
   "outputs": [
    {
     "name": "stdout",
     "output_type": "stream",
     "text": [
      "0\n",
      "5\n",
      "10\n",
      "15\n",
      "20\n"
     ]
    }
   ],
   "execution_count": 27
  },
  {
   "cell_type": "markdown",
   "id": "fe281ab3",
   "metadata": {},
   "source": [
    "### Use a for loop to create a new list from list_example, where each number is mulitplied by 10. You should only include the numbers between 4-8 where 4 and 8 is included. (In general it is better to do this with list comprehension since it is more efficient but this is for exercise purpose.)"
   ]
  },
  {
   "cell_type": "code",
   "id": "12303023",
   "metadata": {
    "ExecuteTime": {
     "end_time": "2025-05-02T07:06:47.887184Z",
     "start_time": "2025-05-02T07:06:47.878912Z"
    }
   },
   "source": [
    "list_example = [1, 2, 3, 4, 5, 6, 7, 8, 9, 10]"
   ],
   "outputs": [],
   "execution_count": 29
  },
  {
   "cell_type": "code",
   "id": "6b1360d5",
   "metadata": {
    "ExecuteTime": {
     "end_time": "2025-05-02T07:06:48.285457Z",
     "start_time": "2025-05-02T07:06:48.282943Z"
    }
   },
   "source": [
    "new_list = []\n",
    "\n",
    "for num in list_example:\n",
    "    if 4 <= num <= 8:\n",
    "        new_list.append(num * 10)\n",
    "\n",
    "print(new_list)\n",
    "\n",
    "new_list = [num * 10 for num in list_example if 4 <= num <= 8]\n",
    "print(new_list)"
   ],
   "outputs": [
    {
     "name": "stdout",
     "output_type": "stream",
     "text": [
      "[40, 50, 60, 70, 80]\n",
      "[40, 50, 60, 70, 80]\n"
     ]
    }
   ],
   "execution_count": 30
  },
  {
   "cell_type": "markdown",
   "id": "73fc584a",
   "metadata": {},
   "source": [
    "# Functions"
   ]
  },
  {
   "cell_type": "markdown",
   "id": "63236e09",
   "metadata": {},
   "source": [
    "### Create a function \"uppercase_converter\" that converts a string to uppercase. For example: uppercase_converter('hello') should return the value HELLO. "
   ]
  },
  {
   "cell_type": "code",
   "id": "fa434d45",
   "metadata": {
    "jupyter": {
     "is_executing": true
    }
   },
   "source": [
    "greeting = \"hello\"\n",
    "def func(greeting):\n",
    "    greeting = greeting.upper()\n",
    "    return (greeting)\n",
    "func(greeting)\n",
    "    "
   ],
   "outputs": [],
   "execution_count": null
  },
  {
   "cell_type": "markdown",
   "id": "9103f538",
   "metadata": {},
   "source": [
    "### Create a function that accepts two arguments and that returns the sum and subtraction of the numbers. "
   ]
  },
  {
   "cell_type": "code",
   "id": "6475dc5a",
   "metadata": {
    "jupyter": {
     "is_executing": true
    }
   },
   "source": [
    "\n",
    "def func(x, y):\n",
    "    sum = x + y\n",
    "    sub = x - y\n",
    "    \n",
    "    return sum, sub\n",
    "\n",
    "func(5, 3)"
   ],
   "outputs": [],
   "execution_count": null
  },
  {
   "cell_type": "markdown",
   "id": "18c3c48a",
   "metadata": {},
   "source": [
    "### Create  a function that contains positional only, positional or keyword and finally keyword arguments only. Hint:\n",
    "**def f(pos_only_1, /, pos_or_kwd, *, kwd_only_1)** ."
   ]
  },
  {
   "cell_type": "code",
   "id": "d0d75159",
   "metadata": {
    "jupyter": {
     "is_executing": true
    }
   },
   "source": [
    "\n",
    "def f(pos_only_1, /, pos_or_kwd, *, kwd_only_1):\n",
    "    print(\"Positional-only argument:\", pos_only_1)\n",
    "    print(\"Positional-or-keyword argument:\", pos_or_kwd)\n",
    "    print(\"Keyword-only argument:\", kwd_only_1)   \n",
    "    f(1, 2, kwd_only_1=3)\n",
    "\n"
   ],
   "outputs": [],
   "execution_count": null
  },
  {
   "cell_type": "markdown",
   "id": "a677a3a7",
   "metadata": {},
   "source": [
    "### Assign a different name to the function and call it through the new name."
   ]
  },
  {
   "cell_type": "code",
   "id": "c3538cea",
   "metadata": {
    "ExecuteTime": {
     "end_time": "2025-04-30T14:25:25.193383Z",
     "start_time": "2025-04-30T14:25:25.182900Z"
    }
   },
   "source": [
    "def my_sum_function(x1, x2):\n",
    "    return x1 + x2\n",
    "\n",
    "my_sum_function(1,2)"
   ],
   "outputs": [
    {
     "data": {
      "text/plain": [
       "3"
      ]
     },
     "execution_count": 59,
     "metadata": {},
     "output_type": "execute_result"
    }
   ],
   "execution_count": 59
  },
  {
   "cell_type": "code",
   "id": "cf8d1c0d",
   "metadata": {
    "ExecuteTime": {
     "end_time": "2025-04-30T14:27:07.031715Z",
     "start_time": "2025-04-30T14:27:07.028521Z"
    }
   },
   "source": [
    "new_func = my_sum_function\n",
    "new_func(1, 2)"
   ],
   "outputs": [
    {
     "data": {
      "text/plain": [
       "3"
      ]
     },
     "execution_count": 61,
     "metadata": {},
     "output_type": "execute_result"
    }
   ],
   "execution_count": 61
  },
  {
   "cell_type": "markdown",
   "id": "12e8be7b",
   "metadata": {},
   "source": [
    "### Write a function f that takes three arguments. The first two are numbers whereas the third is specifying wheter you want to multiply or add them. \n",
    "Example: \n",
    "\n",
    "f(2, 5, 'add') = 7\n",
    "\n",
    "f(2, 5, 'multiply') = 10\n",
    "\n",
    "f(2, 5, 'test') should return an error (raise an exception) and print out the message: Choose either \"add\" or \"multiply\" ."
   ]
  },
  {
   "cell_type": "code",
   "id": "8ef8102e",
   "metadata": {
    "jupyter": {
     "is_executing": true
    }
   },
   "source": [
    "num = 0\n",
    "def f(x, y, z):\n",
    "    if z == 'add':\n",
    "        return x + y\n",
    "    elif z == 'multiply':\n",
    "        return x * y\n",
    "    \n",
    "f(2, 3, 'add')"
   ],
   "outputs": [],
   "execution_count": null
  },
  {
   "cell_type": "markdown",
   "id": "5dc23d6b",
   "metadata": {},
   "source": [
    "### Run the program below and explain what it does."
   ]
  },
  {
   "cell_type": "code",
   "id": "e0588bd9",
   "metadata": {
    "ExecuteTime": {
     "end_time": "2025-04-30T14:55:00.374074Z",
     "start_time": "2025-04-30T14:54:50.360674Z"
    }
   },
   "source": [
    "name = input('What is your name dear stranger?')\n",
    "\n",
    "print('Mom, I met a person whos name is:', name)"
   ],
   "outputs": [
    {
     "name": "stdout",
     "output_type": "stream",
     "text": [
      "Mom, I met a person whos name is: Hugo\n"
     ]
    }
   ],
   "execution_count": 67
  },
  {
   "cell_type": "code",
   "execution_count": null,
   "id": "163c39f6",
   "metadata": {},
   "outputs": [],
   "source": [
    "# The code above ask's the user for input and saves the input as a variable, in this case as 'name'.\n",
    "# After input the code prints a message and uses the var 'name' to show your name."
   ]
  },
  {
   "cell_type": "markdown",
   "id": "7d7d35c1",
   "metadata": {},
   "source": [
    "# General Exercises"
   ]
  },
  {
   "cell_type": "markdown",
   "id": "d8cdd732",
   "metadata": {},
   "source": [
    "### Check if the strings below is a palindrome meaning that if you reverse the string it is the same. \n",
    "Example: anna reversed is still anna meaning it is a palindrome. john reversed is nhoj meaning it is not a palindrome. "
   ]
  },
  {
   "cell_type": "code",
   "id": "53b6d2bb",
   "metadata": {
    "ExecuteTime": {
     "end_time": "2025-04-30T14:59:04.573216Z",
     "start_time": "2025-04-30T14:59:04.570914Z"
    }
   },
   "source": [
    "string_1 = 'anna'\n",
    "string_2 = 'john'"
   ],
   "outputs": [],
   "execution_count": 69
  },
  {
   "cell_type": "code",
   "id": "b6c1e2a4",
   "metadata": {
    "ExecuteTime": {
     "end_time": "2025-04-30T15:02:49.422594Z",
     "start_time": "2025-04-30T15:02:49.415251Z"
    }
   },
   "source": [
    "new_string_1 = string_1[::-1]\n",
    "if new_string_1 == string_1:\n",
    "    print(new_string_1, \"is a palindrome\")\n",
    "    \n",
    "new_string_2 = string_2[::-1]\n",
    "if new_string_2 == string_2:\n",
    "    print(string_2, \"is a palindrome\")\n",
    "else:\n",
    "    print(string_2, \"is not a palindrome\")\n"
   ],
   "outputs": [
    {
     "name": "stdout",
     "output_type": "stream",
     "text": [
      "anna is a palindrome\n",
      "john is not a palindrome\n"
     ]
    }
   ],
   "execution_count": 78
  },
  {
   "cell_type": "markdown",
   "id": "d8b71cd7",
   "metadata": {},
   "source": [
    "### Explain, with your own words, the difference between the two code blocks below. When would you prefer the respective method? Can you create two own examples when each method might be useful?\n",
    "A good link: https://stackoverflow.com/questions/9271712/difference-between-multiple-ifs-and-elifs ."
   ]
  },
  {
   "cell_type": "code",
   "id": "1fe19154",
   "metadata": {
    "ExecuteTime": {
     "end_time": "2025-04-30T15:04:08.483950Z",
     "start_time": "2025-04-30T15:04:08.479076Z"
    }
   },
   "source": [
    "number = 8"
   ],
   "outputs": [],
   "execution_count": 79
  },
  {
   "cell_type": "code",
   "id": "54b25f3b",
   "metadata": {
    "ExecuteTime": {
     "end_time": "2025-04-30T15:04:08.916461Z",
     "start_time": "2025-04-30T15:04:08.914195Z"
    }
   },
   "source": [
    "if number < 5:\n",
    "    print('Less than 5')\n",
    "if number < 10:\n",
    "    print('Less than 10')\n",
    "if number < 100:\n",
    "    print('Less than 100')\n",
    "    \n",
    "    \n",
    "# All conditions are checked, even if earlier ones are true.\n",
    "# Multiple outputs can happen.\n",
    "# Use this when more than one condition can be true and all should be evaluated."
   ],
   "outputs": [
    {
     "name": "stdout",
     "output_type": "stream",
     "text": [
      "Less than 10\n",
      "Less than 100\n"
     ]
    }
   ],
   "execution_count": 80
  },
  {
   "cell_type": "code",
   "id": "57e56cef",
   "metadata": {
    "ExecuteTime": {
     "end_time": "2025-04-30T15:08:23.110847Z",
     "start_time": "2025-04-30T15:08:23.102109Z"
    }
   },
   "source": [
    "if number < 5:\n",
    "    print('Less than 5')\n",
    "elif number < 10:\n",
    "    print('Less than 10')\n",
    "elif number < 100:\n",
    "    print('Less than 100')\n",
    "    \n",
    "    \n",
    "# Only the first true condition runs, the rest are skipped.\n",
    "# Use this when conditions are mutually exclusive "
   ],
   "outputs": [
    {
     "name": "stdout",
     "output_type": "stream",
     "text": [
      "Less than 10\n"
     ]
    }
   ],
   "execution_count": 82
  },
  {
   "cell_type": "code",
   "id": "22a9be99",
   "metadata": {
    "ExecuteTime": {
     "end_time": "2025-04-30T15:10:12.537479Z",
     "start_time": "2025-04-30T15:10:12.532958Z"
    }
   },
   "source": [
    "# if you match all if elements you can use only if statements\n",
    "\n",
    "temp = 3\n",
    "\n",
    "if temp < 10:\n",
    "    print(\"It's cold, you should wear a hat\")\n",
    "if temp < 5:\n",
    "    print(\"and wear a jacket\")"
   ],
   "outputs": [
    {
     "name": "stdout",
     "output_type": "stream",
     "text": [
      "It's cold, you should wear a hat\n",
      "and wear a jacket\n"
     ]
    }
   ],
   "execution_count": 83
  },
  {
   "metadata": {
    "ExecuteTime": {
     "end_time": "2025-04-30T15:29:24.041065Z",
     "start_time": "2025-04-30T15:29:24.038908Z"
    }
   },
   "cell_type": "code",
   "source": [
    "# If you are looking for a more specific awnser like in a grading system you should use elif\n",
    "\n",
    "score = 85\n",
    "\n",
    "if score >= 90:\n",
    "    print(\"Grade: A\")\n",
    "elif score >= 80:\n",
    "    print(\"Grade: B\")\n",
    "elif score >= 70:\n",
    "    print(\"Grade: C\")"
   ],
   "id": "e6fe30ad496a4ac8",
   "outputs": [
    {
     "name": "stdout",
     "output_type": "stream",
     "text": [
      "Grade: B\n"
     ]
    }
   ],
   "execution_count": 2
  },
  {
   "metadata": {},
   "cell_type": "code",
   "outputs": [],
   "execution_count": null,
   "source": "",
   "id": "7a17bc517ecf9c83"
  }
 ],
 "metadata": {
  "kernelspec": {
   "display_name": "Python 3 (ipykernel)",
   "language": "python",
   "name": "python3"
  },
  "language_info": {
   "codemirror_mode": {
    "name": "ipython",
    "version": 3
   },
   "file_extension": ".py",
   "mimetype": "text/x-python",
   "name": "python",
   "nbconvert_exporter": "python",
   "pygments_lexer": "ipython3",
   "version": "3.12.9"
  }
 },
 "nbformat": 4,
 "nbformat_minor": 5
}
