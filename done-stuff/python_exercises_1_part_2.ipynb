{
 "cells": [
  {
   "cell_type": "markdown",
   "id": "22bd630d",
   "metadata": {},
   "source": [
    "# Python exercises 1 part 2/2\n",
    "The exercises are connected to the video available at: https://www.youtube.com/watch?v=M7bnYJyCx0Q from 1:02:20 to 1:14:59.\n",
    "\n",
    "When writing the solutions make sure the code is clear and readable. When providing comments, follow the general principle that you should comment \"why\" you are doing something and not \"what\", the \"what\" is seen by the code itself. "
   ]
  },
  {
   "cell_type": "markdown",
   "id": "c43aead3",
   "metadata": {},
   "source": [
    "# Classes"
   ]
  },
  {
   "cell_type": "markdown",
   "id": "a4c65db4",
   "metadata": {},
   "source": [
    "### Create a class \"GroceryStore\" with price and quantity instance attributes and then create a new instance swedish_apples whos price is 30 and quantity is 900. Once the instance is created, print out the two attributes. "
   ]
  },
  {
   "cell_type": "code",
   "id": "dffff2b7",
   "metadata": {
    "ExecuteTime": {
     "end_time": "2025-05-06T07:08:10.791936Z",
     "start_time": "2025-05-06T07:08:10.782682Z"
    }
   },
   "source": [
    "class GroceryStore:    \n",
    "    \"\"\"This is a class for a store\"\"\" \n",
    "\n",
    "    def __init__(self, price, quantity):\n",
    "        self.price = price\n",
    "        self.quantity = quantity\n",
    "\n",
    "swedish_apples = GroceryStore(price=30, quantity=900)\n",
    "\n",
    "print(swedish_apples.price)\n",
    "print(swedish_apples.quantity)"
   ],
   "outputs": [
    {
     "name": "stdout",
     "output_type": "stream",
     "text": [
      "30\n",
      "900\n"
     ]
    }
   ],
   "execution_count": 6
  },
  {
   "cell_type": "markdown",
   "id": "3dbc1438",
   "metadata": {},
   "source": [
    "### Create a child class \"Subsidiarie\" that will inherit all of the variables and methods of the \"GroceryStore\" class. Then create a new instance grapes whos price is 50 and quantity is 600. Finally, print out the two  attributes.\n",
    "Hint: Use the keyword \"pass\" when creating the class Subsidiarie."
   ]
  },
  {
   "cell_type": "code",
   "id": "028178bb",
   "metadata": {
    "ExecuteTime": {
     "end_time": "2025-05-06T07:08:12.226762Z",
     "start_time": "2025-05-06T07:08:12.224564Z"
    }
   },
   "source": [
    "class Subsidiarie(GroceryStore):\n",
    "    pass\n",
    "\n",
    "grapes = Subsidiarie(50, 600)\n",
    "\n",
    "print(\"Price:\", grapes.price)\n",
    "print(\"Quantity:\", grapes.quantity)"
   ],
   "outputs": [
    {
     "name": "stdout",
     "output_type": "stream",
     "text": [
      "Price: 50\n",
      "Quantity: 600\n"
     ]
    }
   ],
   "execution_count": 7
  },
  {
   "cell_type": "markdown",
   "id": "fa5b81f5",
   "metadata": {},
   "source": [
    "### Create a child class \"Competitor\" that will inherit all of the variables and methods of the \"GroceryStore\" class. The class should have a class variable called store_name = competitor_grocery_store. Create an instance danish_apples whos price is 28 and quantity 920. Print out both the instance variables (price and quantity) and the class variable store_name."
   ]
  },
  {
   "cell_type": "code",
   "id": "ea25ffa9",
   "metadata": {
    "ExecuteTime": {
     "end_time": "2025-05-06T07:08:13.606433Z",
     "start_time": "2025-05-06T07:08:13.601063Z"
    }
   },
   "source": [
    "# Parent class\n",
    "class GroceryStore:\n",
    "    \"\"\"This is a class for a store\"\"\"\n",
    "    def __init__(self, price, quantity):\n",
    "        self.price = price\n",
    "        self.quantity = quantity\n",
    "\n",
    "\n",
    "class Competitor(GroceryStore):\n",
    "    \"\"\"This is a class for a different that competes with the first store\"\"\"\n",
    "    store_name = \"competitor_grocery_store\"\n",
    "\n",
    "danish_apples = Competitor(28, 920)\n",
    "\n",
    "# Print \n",
    "print(\"Price:\", danish_apples.price)\n",
    "print(\"Quantity:\", danish_apples.quantity)\n",
    "print(\"Store Name:\", danish_apples.store_name)\n",
    "\n",
    "\n",
    "    "
   ],
   "outputs": [
    {
     "name": "stdout",
     "output_type": "stream",
     "text": [
      "Price: 28\n",
      "Quantity: 920\n",
      "Store Name: competitor_grocery_store\n"
     ]
    }
   ],
   "execution_count": 8
  },
  {
   "cell_type": "markdown",
   "id": "ed508ef5",
   "metadata": {},
   "source": [
    "### Create a class \"GroceryStore_v2\" with price and quantity instance attributes and a class attribute called owner with the value \"Anna\" assigned to it. Add a method, customer_satisfaction that adds an instance attribute called \"grade\"  that can take values between 1-10, how do you make sure that the grade is between 1-10? Ideally, an exception is raised if grade is outside the allowed boundaries. The class should have a one line documentation string. \n",
    "\n",
    "### Create an instance \"lemons\" with price = 60, quantity = 100. Add a customer_satisfaction_grade that is 8.\n",
    "\n",
    "### Check the type of the lemons instance.\n",
    "\n",
    "### Check if lemons is an instance of the integer class (it should return False since lemons is an instance of GroceryStore_v2). Check if lemons is an instance of the GroceryStore_v2 class (should return True).\n",
    "\n",
    "### Print out the documentation string. "
   ]
  },
  {
   "cell_type": "code",
   "execution_count": null,
   "id": "fe373e76",
   "metadata": {},
   "outputs": [],
   "source": [
    "class GroceryStore_v2:    \n",
    "    \"\"\"This is a class for a store\"\"\" \n",
    "    owner = \"Anna\" \n",
    "\n",
    "    def __init__(self, price, quantity):\n",
    "        self.price = price\n",
    "        self.quantity = quantity\n",
    "\n",
    "    def customer_satisfaction(self, grade):\n",
    "        if not (1 <= grade <= 10):\n",
    "            raise Exception(\"Invalid grade\")\n",
    "        else:\n",
    "            self.grade = grade\n",
    "\n",
    "lemons = GroceryStore_v2(price=60, quantity=100)\n",
    "\n",
    "lemons.customer_satisfaction(8)\n",
    "\n",
    "print(type(lemons))\n",
    "\n",
    "print(lemons.price)\n",
    "print(lemons.quantity)\n",
    "print(lemons.grade)\n",
    "\n",
    "print(isinstance(lemons, int))\n",
    "print(isinstance(lemons, GroceryStore_v2))\n",
    "\n",
    "print(lemons.__doc__)"
   ]
  },
  {
   "cell_type": "markdown",
   "id": "ca0ae2ce",
   "metadata": {},
   "source": [
    "### Create a class Square whos instances has the attribute side_length. Add two methods, perimeter and area that calculates the perimeter and area respectively given the length of one side which is the only attribute that the class has. Create an instance my_square with the side length 8. Print out the perimeter and area of \"my_square\". "
   ]
  },
  {
   "cell_type": "code",
   "id": "16cd8cd7",
   "metadata": {
    "ExecuteTime": {
     "end_time": "2025-05-06T11:45:59.077493Z",
     "start_time": "2025-05-06T11:45:59.073798Z"
    }
   },
   "source": [
    "\n",
    "class Square:\n",
    "    def __init__(self, side_length):\n",
    "        self.side_length = side_length\n",
    "\n",
    "    def perimeter(self):\n",
    "        return self.side_length * 4\n",
    "\n",
    "    def area(self):\n",
    "        return self.side_length ** 2\n",
    "\n",
    "\n",
    "my_square = Square(5)\n",
    "\n",
    "print(\"Perimeter:\", my_square.perimeter())\n",
    "print(\"Area:\", my_square.area())\n"
   ],
   "outputs": [
    {
     "name": "stdout",
     "output_type": "stream",
     "text": [
      "Perimeter: 20\n",
      "Area: 25\n"
     ]
    }
   ],
   "execution_count": 28
  },
  {
   "cell_type": "markdown",
   "id": "f069a4a0",
   "metadata": {},
   "source": [
    "# Explain, in detail, with your own words what the \"DescriptiveStatistics\" class does."
   ]
  },
  {
   "cell_type": "code",
   "id": "877dfc9b",
   "metadata": {
    "ExecuteTime": {
     "end_time": "2025-05-06T11:46:40.147440Z",
     "start_time": "2025-05-06T11:46:40.141482Z"
    }
   },
   "source": [
    "class DescriptiveStatistics():\n",
    "    \"\"\"This class provides functionality for calculating descriptive statistics from a list.\"\"\"\n",
    "#Detta är en klass som tar in en lista och räkar längden, summman av alla element och medelvärder av alla element med\n",
    "# hjälp av olika funktioner\n",
    "    def __init__(self):\n",
    "        self.data = []\n",
    "    \n",
    "    def add_data(self, data):\n",
    "        if isinstance(data, list):\n",
    "            self.data.extend(data)\n",
    "        else:\n",
    "            raise Exception('Only \"Lists\" are accepted as data.')\n",
    "            \n",
    "    def calc_sum(self):\n",
    "        return sum(self.data)\n",
    "    \n",
    "    def calc_nbr_of_elements(self):\n",
    "        return len(self.data)\n",
    "    \n",
    "    def calc_mean(self):\n",
    "        return (self.calc_sum())/(self.calc_nbr_of_elements())\n",
    "    \n",
    "    def print_summary(self):\n",
    "        print('Sum:', self.calc_sum())\n",
    "        print('Number of elements:', self.calc_nbr_of_elements())\n",
    "        print('Mean:', self.calc_mean())  "
   ],
   "outputs": [],
   "execution_count": 29
  },
  {
   "cell_type": "code",
   "id": "6257949c",
   "metadata": {
    "ExecuteTime": {
     "end_time": "2025-05-06T11:48:08.734538Z",
     "start_time": "2025-05-06T11:48:08.730314Z"
    }
   },
   "source": [
    "L = [1, 2, 1, 3, 5, 7, 4, 9, 10, 3, 2, 1, 6, 4, 3, 2, 1, 10, 9, 1, 8, 7, 3, 2, 1]\n",
    "my_data = DescriptiveStatistics()\n",
    "my_data.add_data(L)"
   ],
   "outputs": [],
   "execution_count": 30
  },
  {
   "cell_type": "code",
   "id": "2c039681",
   "metadata": {
    "ExecuteTime": {
     "end_time": "2025-05-06T11:48:09.276712Z",
     "start_time": "2025-05-06T11:48:09.268807Z"
    }
   },
   "source": [
    "my_data.data"
   ],
   "outputs": [
    {
     "data": {
      "text/plain": [
       "[1, 2, 1, 3, 5, 7, 4, 9, 10, 3, 2, 1, 6, 4, 3, 2, 1, 10, 9, 1, 8, 7, 3, 2, 1]"
      ]
     },
     "execution_count": 31,
     "metadata": {},
     "output_type": "execute_result"
    }
   ],
   "execution_count": 31
  },
  {
   "cell_type": "code",
   "id": "10f3eb3c",
   "metadata": {
    "ExecuteTime": {
     "end_time": "2025-05-06T11:48:09.861968Z",
     "start_time": "2025-05-06T11:48:09.859778Z"
    }
   },
   "source": [
    "print('Sum:', my_data.calc_sum())\n",
    "print('Number of elements:', my_data.calc_nbr_of_elements())\n",
    "print('Mean:', my_data.calc_mean())"
   ],
   "outputs": [
    {
     "name": "stdout",
     "output_type": "stream",
     "text": [
      "Sum: 105\n",
      "Number of elements: 25\n",
      "Mean: 4.2\n"
     ]
    }
   ],
   "execution_count": 32
  },
  {
   "cell_type": "code",
   "id": "f7345727",
   "metadata": {
    "ExecuteTime": {
     "end_time": "2025-05-06T11:48:10.933192Z",
     "start_time": "2025-05-06T11:48:10.930564Z"
    }
   },
   "source": [
    "my_data.print_summary()"
   ],
   "outputs": [
    {
     "name": "stdout",
     "output_type": "stream",
     "text": [
      "Sum: 105\n",
      "Number of elements: 25\n",
      "Mean: 4.2\n"
     ]
    }
   ],
   "execution_count": 33
  },
  {
   "cell_type": "markdown",
   "id": "a55a2e6b",
   "metadata": {},
   "source": [
    "# Exceptions\n",
    "In the video: https://www.youtube.com/watch?v=M7bnYJyCx0Q from 1:09:18 to 1:14:59 Exceptions is covered. Now you shall explain: \n",
    "1. In your own words describe why catching exceptions can be useful.\n",
    "2. Create an example where you *catch* an exception. \n",
    "3. Create a function where you *raise* exceptions for different cases (it can be one or more). Why would you like to raise exceptions?"
   ]
  },
  {
   "cell_type": "code",
   "execution_count": null,
   "id": "71d0c415",
   "metadata": {},
   "outputs": [],
   "source": []
  },
  {
   "cell_type": "markdown",
   "id": "7485f9a6",
   "metadata": {},
   "source": [
    "# Read PEP8 available at: https://peps.python.org/pep-0008/ . Give a short summary of some things that you should have in your \"fingertips\". For example, how should variables or classes be named? How should you write a comment?"
   ]
  },
  {
   "cell_type": "code",
   "execution_count": null,
   "id": "c03ca02b",
   "metadata": {},
   "outputs": [],
   "source": []
  }
 ],
 "metadata": {
  "kernelspec": {
   "display_name": "Python 3 (ipykernel)",
   "language": "python",
   "name": "python3"
  },
  "language_info": {
   "codemirror_mode": {
    "name": "ipython",
    "version": 3
   },
   "file_extension": ".py",
   "mimetype": "text/x-python",
   "name": "python",
   "nbconvert_exporter": "python",
   "pygments_lexer": "ipython3",
   "version": "3.12.9"
  }
 },
 "nbformat": 4,
 "nbformat_minor": 5
}
