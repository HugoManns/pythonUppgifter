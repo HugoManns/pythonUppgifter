{
 "cells": [
  {
   "cell_type": "code",
   "execution_count": 2,
   "id": "e0024023-016f-41bd-8bd8-f9052566ae19",
   "metadata": {},
   "outputs": [
    {
     "name": "stdin",
     "output_type": "stream",
     "text": [
      "How many apples do you have?:  30\n"
     ]
    },
    {
     "name": "stdout",
     "output_type": "stream",
     "text": [
      "You got taxed 9.00. You now have 21.00 apples.\n"
     ]
    }
   ],
   "source": [
    "i1 = float(input(\"How many apples do you have?: \"))\n",
    "\n",
    "if 10 <= i1 < 50:\n",
    "    tax = i1 * 0.3\n",
    "    amount_after_tax = i1 - tax\n",
    "    print(f\"You got taxed {tax:.2f}. You now have {amount_after_tax:.2f} apples.\")\n",
    "elif i1 >= 50:\n",
    "    tax = i1 * 0.5\n",
    "    amount_after_tax = i1 - tax\n",
    "    print(f\"You got taxed {tax:.2f}. You now have {amount_after_tax:.2f} apples.\")\n",
    "else:\n",
    "    print(f\"No tax applied. You have {i1} apples.\")"
   ]
  },
  {
   "cell_type": "code",
   "execution_count": null,
   "id": "84071193-aed9-43f5-9fe0-00fdebec965d",
   "metadata": {},
   "outputs": [],
   "source": []
  }
 ],
 "metadata": {
  "kernelspec": {
   "display_name": "Python 3 (ipykernel)",
   "language": "python",
   "name": "python3"
  },
  "language_info": {
   "codemirror_mode": {
    "name": "ipython",
    "version": 3
   },
   "file_extension": ".py",
   "mimetype": "text/x-python",
   "name": "python",
   "nbconvert_exporter": "python",
   "pygments_lexer": "ipython3",
   "version": "3.12.7"
  }
 },
 "nbformat": 4,
 "nbformat_minor": 5
}
